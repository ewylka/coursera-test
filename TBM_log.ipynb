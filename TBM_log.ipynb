{
  "nbformat": 4,
  "nbformat_minor": 0,
  "metadata": {
    "colab": {
      "provenance": [],
      "include_colab_link": true
    },
    "kernelspec": {
      "name": "python3",
      "display_name": "Python 3"
    },
    "language_info": {
      "name": "python"
    }
  },
  "cells": [
    {
      "cell_type": "markdown",
      "metadata": {
        "id": "view-in-github",
        "colab_type": "text"
      },
      "source": [
        "<a href=\"https://colab.research.google.com/github/ewylka/coursera-test/blob/master/TBM_log.ipynb\" target=\"_parent\"><img src=\"https://colab.research.google.com/assets/colab-badge.svg\" alt=\"Open In Colab\"/></a>"
      ]
    },
    {
      "cell_type": "markdown",
      "source": [
        "Instructions:\n",
        "1. Change the date under Choose_date\n",
        "2. Press play and scroll down to see the preview table.\n",
        "3. Check table if ok.\n",
        "4. Press play in code box nr.2 to create excel\n",
        "5. Download excel 😀\n",
        "5. Thank data analyst Ewelina"
      ],
      "metadata": {
        "id": "RriKgkQ5Vzvs"
      }
    },
    {
      "cell_type": "code",
      "execution_count": null,
      "metadata": {
        "colab": {
          "base_uri": "https://localhost:8080/",
          "height": 307
        },
        "id": "GmtoQf3E1zf5",
        "outputId": "5bcf1d37-5070-4d2c-c645-5758a9212820"
      },
      "outputs": [
        {
          "output_type": "stream",
          "name": "stdout",
          "text": [
            "Drive already mounted at /content/drive; to attempt to forcibly remount, call drive.mount(\"/content/drive\", force_remount=True).\n",
            "Total Duration in min for each activity on Shift Day 2024-06-03. Check if correct before exporting excel in box under.\n"
          ]
        },
        {
          "output_type": "execute_result",
          "data": {
            "text/html": [
              "<div>\n",
              "<style scoped>\n",
              "    .dataframe tbody tr th:only-of-type {\n",
              "        vertical-align: middle;\n",
              "    }\n",
              "\n",
              "    .dataframe tbody tr th {\n",
              "        vertical-align: top;\n",
              "    }\n",
              "\n",
              "    .dataframe thead th {\n",
              "        text-align: right;\n",
              "    }\n",
              "</style>\n",
              "<table border=\"1\" class=\"dataframe\">\n",
              "  <thead>\n",
              "    <tr style=\"text-align: right;\">\n",
              "      <th></th>\n",
              "      <th>Description of activity on Shift Day 2024-06-03:</th>\n",
              "      <th>Code</th>\n",
              "      <th>Critical</th>\n",
              "      <th>Duration in min</th>\n",
              "    </tr>\n",
              "  </thead>\n",
              "  <tbody>\n",
              "    <tr>\n",
              "      <th>0</th>\n",
              "      <td></td>\n",
              "      <td>Adv</td>\n",
              "      <td></td>\n",
              "      <td>60</td>\n",
              "    </tr>\n",
              "    <tr>\n",
              "      <th>1</th>\n",
              "      <td></td>\n",
              "      <td>Regrip</td>\n",
              "      <td></td>\n",
              "      <td>14</td>\n",
              "    </tr>\n",
              "    <tr>\n",
              "      <th>2</th>\n",
              "      <td>Bullflex installation (grouting)</td>\n",
              "      <td>260</td>\n",
              "      <td>Yes</td>\n",
              "      <td>1103</td>\n",
              "    </tr>\n",
              "    <tr>\n",
              "      <th>3</th>\n",
              "      <td>DT - On TBM -Cleaning Telescopic Shield</td>\n",
              "      <td>650</td>\n",
              "      <td>Yes</td>\n",
              "      <td>78</td>\n",
              "    </tr>\n",
              "    <tr>\n",
              "      <th>4</th>\n",
              "      <td>Injection drilling</td>\n",
              "      <td>130</td>\n",
              "      <td>Yes</td>\n",
              "      <td>128</td>\n",
              "    </tr>\n",
              "    <tr>\n",
              "      <th>5</th>\n",
              "      <td>Other Maintenance / Delay</td>\n",
              "      <td>860</td>\n",
              "      <td>Yes</td>\n",
              "      <td>10</td>\n",
              "    </tr>\n",
              "    <tr>\n",
              "      <th>6</th>\n",
              "      <td>TBM Breakdown - Electrical System</td>\n",
              "      <td>510</td>\n",
              "      <td>Yes</td>\n",
              "      <td>40</td>\n",
              "    </tr>\n",
              "  </tbody>\n",
              "</table>\n",
              "</div>"
            ],
            "application/vnd.google.colaboratory.module+javascript": "\n      import \"https://ssl.gstatic.com/colaboratory/data_table/0f58263f0ada1429/data_table.js\";\n\n      const table = window.createDataTable({\n        data: [[\"\",\n\"Adv\",\n\"\",\n{\n            'v': 60,\n            'f': \"60\",\n        }],\n [\"\",\n\"Regrip\",\n\"\",\n{\n            'v': 14,\n            'f': \"14\",\n        }],\n [\"Bullflex installation (grouting)\",\n\"260\",\n\"Yes\",\n{\n            'v': 1103,\n            'f': \"1103\",\n        }],\n [\"DT - On TBM -Cleaning Telescopic Shield\",\n\"650\",\n\"Yes\",\n{\n            'v': 78,\n            'f': \"78\",\n        }],\n [\"Injection drilling\",\n\"130\",\n\"Yes\",\n{\n            'v': 128,\n            'f': \"128\",\n        }],\n [\"Other Maintenance / Delay\",\n\"860\",\n\"Yes\",\n{\n            'v': 10,\n            'f': \"10\",\n        }],\n [\"TBM Breakdown - Electrical System\",\n\"510\",\n\"Yes\",\n{\n            'v': 40,\n            'f': \"40\",\n        }]],\n        columns: [[\"string\", \"Description of activity on Shift Day 2024-06-03:\"], [\"string\", \"Code\"], [\"string\", \"Critical\"], [\"number\", \"Duration in min\"]],\n        columnOptions: [],\n        rowsPerPage: 25,\n        helpUrl: \"https://colab.research.google.com/notebooks/data_table.ipynb\",\n        suppressOutputScrolling: true,\n        minimumWidth: undefined,\n      });\n\n      function appendQuickchartButton(parentElement) {\n        let quickchartButtonContainerElement = document.createElement('div');\n        quickchartButtonContainerElement.innerHTML = `\n<div id=\"df-5369d905-64a3-48a8-8977-ca99e2ed53a9\">\n  <button class=\"colab-df-quickchart\" onclick=\"quickchart('df-5369d905-64a3-48a8-8977-ca99e2ed53a9')\"\n            title=\"Suggest charts\"\n            style=\"display:none;\">\n    \n<svg xmlns=\"http://www.w3.org/2000/svg\" height=\"24px\"viewBox=\"0 0 24 24\"\n     width=\"24px\">\n    <g>\n        <path d=\"M19 3H5c-1.1 0-2 .9-2 2v14c0 1.1.9 2 2 2h14c1.1 0 2-.9 2-2V5c0-1.1-.9-2-2-2zM9 17H7v-7h2v7zm4 0h-2V7h2v10zm4 0h-2v-4h2v4z\"/>\n    </g>\n</svg>\n  </button>\n  \n<style>\n  .colab-df-quickchart {\n      --bg-color: #E8F0FE;\n      --fill-color: #1967D2;\n      --hover-bg-color: #E2EBFA;\n      --hover-fill-color: #174EA6;\n      --disabled-fill-color: #AAA;\n      --disabled-bg-color: #DDD;\n  }\n\n  [theme=dark] .colab-df-quickchart {\n      --bg-color: #3B4455;\n      --fill-color: #D2E3FC;\n      --hover-bg-color: #434B5C;\n      --hover-fill-color: #FFFFFF;\n      --disabled-bg-color: #3B4455;\n      --disabled-fill-color: #666;\n  }\n\n  .colab-df-quickchart {\n    background-color: var(--bg-color);\n    border: none;\n    border-radius: 50%;\n    cursor: pointer;\n    display: none;\n    fill: var(--fill-color);\n    height: 32px;\n    padding: 0;\n    width: 32px;\n  }\n\n  .colab-df-quickchart:hover {\n    background-color: var(--hover-bg-color);\n    box-shadow: 0 1px 2px rgba(60, 64, 67, 0.3), 0 1px 3px 1px rgba(60, 64, 67, 0.15);\n    fill: var(--button-hover-fill-color);\n  }\n\n  .colab-df-quickchart-complete:disabled,\n  .colab-df-quickchart-complete:disabled:hover {\n    background-color: var(--disabled-bg-color);\n    fill: var(--disabled-fill-color);\n    box-shadow: none;\n  }\n\n  .colab-df-spinner {\n    border: 2px solid var(--fill-color);\n    border-color: transparent;\n    border-bottom-color: var(--fill-color);\n    animation:\n      spin 1s steps(1) infinite;\n  }\n\n  @keyframes spin {\n    0% {\n      border-color: transparent;\n      border-bottom-color: var(--fill-color);\n      border-left-color: var(--fill-color);\n    }\n    20% {\n      border-color: transparent;\n      border-left-color: var(--fill-color);\n      border-top-color: var(--fill-color);\n    }\n    30% {\n      border-color: transparent;\n      border-left-color: var(--fill-color);\n      border-top-color: var(--fill-color);\n      border-right-color: var(--fill-color);\n    }\n    40% {\n      border-color: transparent;\n      border-right-color: var(--fill-color);\n      border-top-color: var(--fill-color);\n    }\n    60% {\n      border-color: transparent;\n      border-right-color: var(--fill-color);\n    }\n    80% {\n      border-color: transparent;\n      border-right-color: var(--fill-color);\n      border-bottom-color: var(--fill-color);\n    }\n    90% {\n      border-color: transparent;\n      border-bottom-color: var(--fill-color);\n    }\n  }\n</style>\n\n  <script>\n    async function quickchart(key) {\n      const quickchartButtonEl =\n        document.querySelector('#' + key + ' button');\n      quickchartButtonEl.disabled = true;  // To prevent multiple clicks.\n      quickchartButtonEl.classList.add('colab-df-spinner');\n      try {\n        const charts = await google.colab.kernel.invokeFunction(\n            'suggestCharts', [key], {});\n      } catch (error) {\n        console.error('Error during call to suggestCharts:', error);\n      }\n      quickchartButtonEl.classList.remove('colab-df-spinner');\n      quickchartButtonEl.classList.add('colab-df-quickchart-complete');\n    }\n    (() => {\n      let quickchartButtonEl =\n        document.querySelector('#df-5369d905-64a3-48a8-8977-ca99e2ed53a9 button');\n      quickchartButtonEl.style.display =\n        google.colab.kernel.accessAllowed ? 'block' : 'none';\n    })();\n  </script>\n</div>`;\n        parentElement.appendChild(quickchartButtonContainerElement);\n      }\n\n      appendQuickchartButton(table);\n    ",
            "text/plain": [
              "<google.colab.data_table.DataTable object>"
            ]
          },
          "metadata": {},
          "execution_count": 8
        }
      ],
      "source": [
        "Choose_date='2024-06-03'  #Choose date, format yyyy-mm-dd\n",
        "\n",
        "#Automatic, nie dotykaj\n",
        "from google.colab import drive\n",
        "import pandas as pd\n",
        "from datetime import datetime\n",
        "from google.colab import data_table\n",
        "drive.mount('/content/drive')\n",
        "\n",
        "file_path = '/content/drive/MyDrive/00 TBM DATA/Oslo E6 TBM_New Template_202463-600 usa.csv' #File path, mozesz podmienic (z google drive)\n",
        "df = pd.read_csv(file_path,  delimiter=';', on_bad_lines='skip') #Delimiter fix, dont touch\n",
        "df.replace('--empty--', '', inplace=True) #replaces empty cells\n",
        "\n",
        "#Filter cells you dont need\n",
        "df = df[df['Critical'] != 'No']\n",
        "df = df[~df['Code'].isin(['DO', 'RB'])]\n",
        "\n",
        "#converts 'Start' to datetime format\n",
        "df['Start'] = pd.to_datetime(df['Start'])\n",
        "\n",
        "#function to adjust shift day from 6am-6am\n",
        "def calculate_shift_day(start):\n",
        "    if start.hour >= 6:  # If hour is 6:00 AM or later\n",
        "        return start.date()\n",
        "    else:  # If hour is before 6:00 AM\n",
        "        return (start - pd.Timedelta(days=1)).date()\n",
        "\n",
        "# Function result to create new Shift Day column\n",
        "df['Shift Day'] = df['Start'].apply(calculate_shift_day)\n",
        "specific_shift_day = datetime.strptime(Choose_date, '%Y-%m-%d').date()  # Specific shift day from header, must be a date object\n",
        "DailyDate_df = df[df['Shift Day'] == specific_shift_day] #filter out rows with the specific shift day\n",
        "\n",
        "#filter rows with the chosen shift day & only the desired columns\n",
        "desired_columns = ['Description', 'Code', 'Critical', 'Duration in min', 'Shift Day']\n",
        "DailyDate_df = df[df['Shift Day'] == specific_shift_day][desired_columns]\n",
        "\n",
        "#sum of the 'Duration in min' per day\n",
        "duration_sum_per_activity = DailyDate_df.groupby(['Description', 'Code','Critical']).agg({'Duration in min': 'sum'}).reset_index()\n",
        "\n",
        "new_description_column = f'Description of activity on Shift Day {specific_shift_day}:' # Rename the 'Description' column\n",
        "duration_sum_per_activity.rename(columns={'Description': new_description_column}, inplace=True)\n",
        "print(f\"Total Duration in min for each activity on Shift Day {specific_shift_day}. Check if correct before exporting excel in box under.\")\n",
        "\n",
        "#show interactive data table\n",
        "data_table.DataTable(duration_sum_per_activity, include_index=False)\n"
      ]
    },
    {
      "cell_type": "markdown",
      "source": [
        "Press play to download excel:"
      ],
      "metadata": {
        "id": "4DzO7TC-XvOV"
      }
    },
    {
      "cell_type": "code",
      "source": [
        "#export the excel file\n",
        "\n",
        "file_name = f'{specific_shift_day} daily TBM rapport.xlsx' #excel file name\n",
        "duration_sum_per_activity.to_excel(file_name, index=False) #save to excel\n",
        "print(f\"\"\"DataFrame exported to '{file_name}' successfully.\n",
        "\n",
        "Download link:\"\"\")\n",
        "\n",
        "def create_download_link(file_name):\n",
        "    import base64\n",
        "    from IPython.display import HTML\n",
        "    with open(file_name, \"rb\") as f:\n",
        "        data = f.read()\n",
        "    b64 = base64.b64encode(data).decode()\n",
        "\n",
        "    return HTML(f'<a download=\"{file_name}\" href=\"data:text/csv;base64,{b64}\" target=\"_blank\">Click here to download {file_name}</a>')\n",
        "\n",
        "create_download_link(file_name)"
      ],
      "metadata": {
        "id": "kYdKUIAZKwiI",
        "colab": {
          "base_uri": "https://localhost:8080/",
          "height": 86
        },
        "outputId": "a2f73e29-647f-4d17-9750-f6884c64ac76"
      },
      "execution_count": null,
      "outputs": [
        {
          "output_type": "stream",
          "name": "stdout",
          "text": [
            "DataFrame exported to '2024-06-03 daily TBM rapport.xlsx' successfully.\n",
            "\n",
            "Download link:\n"
          ]
        },
        {
          "output_type": "execute_result",
          "data": {
            "text/plain": [
              "<IPython.core.display.HTML object>"
            ],
            "text/html": [
              "<a download=\"2024-06-03 daily TBM rapport.xlsx\" href=\"data:text/csv;base64,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\" target=\"_blank\">Click here to download 2024-06-03 daily TBM rapport.xlsx</a>"
            ]
          },
          "metadata": {},
          "execution_count": 7
        }
      ]
    }
  ]
}